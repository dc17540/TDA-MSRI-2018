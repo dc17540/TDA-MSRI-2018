{
 "cells": [
  {
   "cell_type": "code",
   "execution_count": null,
   "metadata": {
    "collapsed": true
   },
   "outputs": [],
   "source": [
    "\n",
    "\n",
    "theX = [5,10,15,20,25,30,35,40,45,50,55,60,65,70,75,80,85]\n",
    "theY = [0.6470299840439111,\n",
    " 0.6543979998677969,\n",
    " 1.387157133081928,\n",
    " 4.025382577907294,\n",
    " 5.0782912380527705,\n",
    " 11.042995186056942,\n",
    " 14.668640203075483,\n",
    " 23.651742126094177,\n",
    " 43.12001567007974,\n",
    " 41.756895924918354,\n",
    " 85.70284675620496,\n",
    " 85.45622263103724,\n",
    " 241.41786997392774,\n",
    " 222.33906099689193,\n",
    " 217.41468082903884]\n",
    "[223.95902750315145,\n",
    " 1057.6978540320415,\n",
    " 1022.1891549390275,\n",
    " 1001.5830447128974,\n",
    " 955.5517303370871]\n",
    "\n"
   ]
  }
 ],
 "metadata": {
  "kernelspec": {
   "display_name": "Python 3",
   "language": "python",
   "name": "python3"
  },
  "language_info": {
   "codemirror_mode": {
    "name": "ipython",
    "version": 3
   },
   "file_extension": ".py",
   "mimetype": "text/x-python",
   "name": "python",
   "nbconvert_exporter": "python",
   "pygments_lexer": "ipython3",
   "version": "3.6.2"
  }
 },
 "nbformat": 4,
 "nbformat_minor": 2
}
