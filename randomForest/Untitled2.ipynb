{
 "cells": [
  {
   "cell_type": "code",
   "execution_count": 3,
   "metadata": {
    "collapsed": true
   },
   "outputs": [],
   "source": [
    "Acounter = 0\n",
    "Ncounter = 0\n",
    "Ocounter = 0\n",
    "Noise = 0\n",
    "x = open(\"REFERENCE-v3.csv\")\n",
    "for line in x:\n",
    "    line = line.strip()\n",
    "    a,b = line.split(\",\")\n",
    "    if(b == \"A\"):\n",
    "        Acounter += 1\n",
    "    elif(b == \"N\"):\n",
    "        Ncounter += 1\n",
    "    elif(b == \"O\"):\n",
    "        Ocounter += 1\n",
    "    else:\n",
    "        Noise +=1\n",
    "    #theTotal.append(b)"
   ]
  },
  {
   "cell_type": "code",
   "execution_count": 4,
   "metadata": {},
   "outputs": [
    {
     "name": "stdout",
     "output_type": "stream",
     "text": [
      "758\n",
      "5076\n",
      "2415\n",
      "279\n"
     ]
    }
   ],
   "source": [
    "print(Acounter)\n",
    "print(Ncounter)\n",
    "print(Ocounter)\n",
    "print(Noise)"
   ]
  },
  {
   "cell_type": "code",
   "execution_count": 1,
   "metadata": {},
   "outputs": [
    {
     "data": {
      "text/plain": [
       "1116"
      ]
     },
     "execution_count": 1,
     "metadata": {},
     "output_type": "execute_result"
    }
   ],
   "source": [
    "279*4"
   ]
  },
  {
   "cell_type": "code",
   "execution_count": 2,
   "metadata": {},
   "outputs": [
    {
     "data": {
      "text/plain": [
       "7412"
      ]
     },
     "execution_count": 2,
     "metadata": {},
     "output_type": "execute_result"
    }
   ],
   "source": [
    "8528-1116"
   ]
  },
  {
   "cell_type": "code",
   "execution_count": null,
   "metadata": {
    "collapsed": true
   },
   "outputs": [],
   "source": []
  }
 ],
 "metadata": {
  "kernelspec": {
   "display_name": "Python 3",
   "language": "python",
   "name": "python3"
  },
  "language_info": {
   "codemirror_mode": {
    "name": "ipython",
    "version": 3
   },
   "file_extension": ".py",
   "mimetype": "text/x-python",
   "name": "python",
   "nbconvert_exporter": "python",
   "pygments_lexer": "ipython3",
   "version": "3.6.2"
  }
 },
 "nbformat": 4,
 "nbformat_minor": 2
}
