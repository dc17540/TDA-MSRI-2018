{
 "cells": [
  {
   "cell_type": "code",
   "execution_count": null,
   "metadata": {
    "collapsed": true
   },
   "outputs": [],
   "source": [
    "import numpy as np\n",
    "import pandas as pd"
   ]
  },
  {
   "cell_type": "code",
   "execution_count": null,
   "metadata": {
    "collapsed": true
   },
   "outputs": [],
   "source": [
    "theTotal = []\n",
    "classDict = {}\n",
    "\n",
    "x = open(\"200_set_of_Norm_AF_Rand.csv\")\n",
    "for line in x:\n",
    "    line = line.strip()\n",
    "    print(line)\n",
    "    a,b,c,d = line.split(\",\")\n",
    "    if(lineCount != 0):\n",
    "            #normalListTrain.append(b)\n",
    "            theTotal.append(b)\n",
    "            classDict[b] = [\"N\"]\n",
    "            #normalListTest.append(b)\n",
    "            #AFListTrain.append(c)\n",
    "            theTotal.append(c)\n",
    "            classDict[c] = [\"AF\"]\n",
    "            #AFListTest.append(c)\n",
    "            #randomListTest.append(d)\n",
    "            theTotal.append(d)\n",
    "            classDict[\"d\"] = [\"R\"]\n",
    "\n",
    "\n",
    "            \n",
    "theFrame = {mean:[],std_dev:[],theClass:[]}\n",
    "\n",
    "theCsv = pd.read_csv(\"Means_sd_dim1.csv\", index_col=0)\n",
    "\n",
    "aList = []\n",
    "for i in range(0,200):\n",
    "    aList.append(\"N\")\n",
    "    \n",
    "\n",
    "for i in range(0,200):\n",
    "    aList.append(\"AF\")\n",
    "\n",
    "    \n",
    "for i in range in (0,200):\n",
    "    aList.append(\"R\")\n",
    "    \n",
    "\n",
    "\n",
    "theCsv[\"type\"] = np.asarray    \n",
    "#### make dataframe \n",
    "###\n",
    "    "
   ]
  },
  {
   "cell_type": "code",
   "execution_count": null,
   "metadata": {
    "collapsed": true
   },
   "outputs": [],
   "source": [
    "\n"
   ]
  }
 ],
 "metadata": {
  "kernelspec": {
   "display_name": "Python 3",
   "language": "python",
   "name": "python3"
  },
  "language_info": {
   "codemirror_mode": {
    "name": "ipython",
    "version": 3
   },
   "file_extension": ".py",
   "mimetype": "text/x-python",
   "name": "python",
   "nbconvert_exporter": "python",
   "pygments_lexer": "ipython3",
   "version": "3.6.2"
  }
 },
 "nbformat": 4,
 "nbformat_minor": 2
}
