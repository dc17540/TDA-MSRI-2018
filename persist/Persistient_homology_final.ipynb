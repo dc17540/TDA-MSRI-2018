{
 "cells": [
  {
   "cell_type": "code",
   "execution_count": 1,
   "metadata": {
    "collapsed": true
   },
   "outputs": [],
   "source": [
    "#from  IPython.displayIPython  import display\n",
    "\n",
    "\n",
    "#import libaires\n",
    "import matplotlib.pyplot as plt\n",
    "%matplotlib inline\n",
    "import numpy as np\n",
    "import os\n",
    "import shutil\n",
    "import cython\n",
    "from ripser import ripser, plot_dgms\n",
    "import wfdb\n",
    "import math\n",
    "import pandas as pd\n",
    "\n",
    "\n"
   ]
  },
  {
   "cell_type": "code",
   "execution_count": 2,
   "metadata": {
    "collapsed": true
   },
   "outputs": [],
   "source": [
    "#Function to make the libary\n",
    "#theDimension - what dimesnion should the perisistnce diagram go to\n",
    "#numOfSec - the number of seconds should be used in the diagram\n",
    "#ID - ID of the timeseries\n",
    "#Path- the full path to the timeseries \n",
    "\n",
    "def setWindow(aStep,aListOfVals):\n",
    "    theIndex = 0\n",
    "    theLength = len(aListOfVals)\n",
    "    theFinList = []\n",
    "    for i in range(0,theLength):\n",
    "        if(theIndex <len(aListOfVals)):\n",
    "            theFinList.append(aListOfVals[theIndex])\n",
    "            theIndex += aStep\n",
    "        \n",
    "    return(theFinList)   \n",
    "\n",
    "def makePersistDiagram(theDimension,numOfSec,ID,Path,Step):\n",
    "    theX = []\n",
    "    diagramss = \"\"\n",
    "    x = \"\"\n",
    "    theString = \"\"\n",
    "    theFinData = []\n",
    "    #get the timeseries to the number of seconds\n",
    "    theSamp = wfdb.rdsamp(Path  + ID)\n",
    "    theData = theSamp[0]\n",
    "    for i in range(0,len(theSamp[0])):\n",
    "    #print(theSamp[0][i][0])\n",
    "        theX.append(theSamp[0][i][0])\n",
    "    theData = theX[0:numOfSec]\n",
    "   # print(theData)\n",
    "    Delta = math.floor(Step/theDimension)\n",
    "    theData = setWindow(Delta,theData)\n",
    "   # print(theData)\n",
    "    #theData = np.asarray(theData)\n",
    "    #if even cuts :\n",
    "    \n",
    "    \n",
    "    \n",
    "\n",
    "        #setup set of vectors based off information given\n",
    "    for i in range(0,len(theData)-theDimension):\n",
    "        theFinData.append(theData[i:i+theDimension])\n",
    "    theFinData = np.array(theFinData)\n",
    "    print(theFinData.shape)\n",
    "    print(theFinData)\n",
    "    print(\"starting\") \n",
    "        #use ripser and plot\n",
    "    diagramss = ripser(theFinData,2)['dgms']\n",
    "    plot_dgms(diagramss, show=True)\n",
    "    x = open(ID + \".txt\",\"w\")\n",
    "    theCSV = {'Dimension':[],\"Birth\":[],\"Death\":[]}\n",
    "    \n",
    "    for i in range(len(diagramss)):\n",
    "        for j in range(len(diagramss[i])):\n",
    "            theCSV[\"Dimension\"].append(i)\n",
    "            theCSV[\"Birth\"].append(diagramss[i][j][0])\n",
    "            theCSV[\"Death\"].append(diagramss[i][j][1])\n",
    "    theCSV = pd.DataFrame(theCSV)\n",
    "    theCSV.to_csv(str(theDimension) +'.csv')\n",
    "    return(diagramss)\n",
    "\n",
    "#rint(type(makePersistDiagram(50,3200,\"A07872\",'/home/dr-dunstan/Downloads/training2017/')))\n",
    "\n",
    "\n",
    "#function to save from csv\n",
    "def makeDiaFromCSV(dataType):\n",
    "    #vairbles to deal with the csv and opening it \n",
    "    lineSkip = 0\n",
    "    theCSV = open(\"200_set_of_Norm_AF_Rand.csv\")\n",
    "    \n",
    "    #working the normal column of the csv\n",
    "    if(dataType == \"Normal\"):\n",
    "        #for each line in the csv\n",
    "        for line in theCSV:\n",
    "            #remove whitespace\n",
    "            line = line.strip()\n",
    "            #split up based off commas\n",
    "            a,b,c,d = line.split(\",\")\n",
    "            #if not at first line\n",
    "            if(lineSkip != 0):\n",
    "                #create plot diagram with ID at that line\n",
    "                theSamp = wfdb.rdsamp(\"/home/dr-dunstan/Downloads/training2017/\" + b)\n",
    "                theData = len(theSamp[0])\n",
    "                makePersistDiagram(1,theData,b,'/home/dr-dunstan/Downloads/training2017/',5)\n",
    "            lineSkip += 1\n",
    "#same with af & random\n",
    "    elif(dataType == \"AF\"):\n",
    "        for line in theCSV:\n",
    "            line = line.strip()\n",
    "            a,b,c,d = line.split(\",\")\n",
    "            if(lineSkip != 0):\n",
    "                theSamp = wfdb.rdsamp(\"/home/dr-dunstan/Downloads/training2017/\" + c)\n",
    "                theData = len(theSamp[0])\n",
    "                makePersistDiagram(1,theData,c,'/home/dr-dunstan/Downloads/training2017/',5)\n",
    "            lineSkip += 1\n",
    "    elif(dataType == \"Random\"):\n",
    "        for line in theCSV:\n",
    "            line = line.strip()\n",
    "            a,b,c,d = line.split(\",\")\n",
    "            if(lineSkip != 0):\n",
    "                theSamp = wfdb.rdsamp(\"/home/dr-dunstan/Downloads/training2017/\"+ d)\n",
    "                theData = len(theSamp[0])\n",
    "                makePersistDiagram(1,theData,d,'/home/dr-dunstan/Downloads/training2017/',5)\n",
    "            lineSkip += 1\n",
    "    else:\n",
    "        print(\"Datatype dosent exsit\")\n",
    "\n",
    "#"
   ]
  },
  {
   "cell_type": "code",
   "execution_count": null,
   "metadata": {
    "collapsed": true
   },
   "outputs": [],
   "source": [
    "\n",
    "\n",
    "makeDiaFromCSV(\"Normal\")\n",
    "makeDiaFromCSV(\"AF\")\n",
    "makeDiaFromCSV(\"Random\")"
   ]
  },
  {
   "cell_type": "code",
   "execution_count": 3,
   "metadata": {},
   "outputs": [
    {
     "name": "stdout",
     "output_type": "stream",
     "text": [
      "[[-0.127]\n",
      " [-0.162]\n",
      " [-0.197]\n",
      " ..., \n",
      " [-0.018]\n",
      " [-0.022]\n",
      " [-0.021]]\n",
      "(28, 2)\n",
      "[[-0.127 -0.162]\n",
      " [-0.162 -0.197]\n",
      " [-0.197 -0.229]\n",
      " [-0.229 -0.245]\n",
      " [-0.245 -0.254]\n",
      " [-0.254 -0.261]\n",
      " [-0.261 -0.265]\n",
      " [-0.265 -0.268]\n",
      " [-0.268 -0.268]\n",
      " [-0.268 -0.267]\n",
      " [-0.267 -0.265]\n",
      " [-0.265 -0.263]\n",
      " [-0.263 -0.26 ]\n",
      " [-0.26  -0.256]\n",
      " [-0.256 -0.253]\n",
      " [-0.253 -0.249]\n",
      " [-0.249 -0.247]\n",
      " [-0.247 -0.245]\n",
      " [-0.245 -0.243]\n",
      " [-0.243 -0.241]\n",
      " [-0.241 -0.238]\n",
      " [-0.238 -0.236]\n",
      " [-0.236 -0.234]\n",
      " [-0.234 -0.232]\n",
      " [-0.232 -0.231]\n",
      " [-0.231 -0.23 ]\n",
      " [-0.23  -0.229]\n",
      " [-0.229 -0.229]]\n",
      "starting\n"
     ]
    },
    {
     "data": {
      "image/png": "[encoded data removed]",
      "text/plain": [
       "<matplotlib.figure.Figure at 0x7fed3407e198>"
      ]
     },
     "metadata": {},
     "output_type": "display_data"
    }
   ],
   "source": [
    "\n",
    "import timeit\n",
    "start_time = timeit.default_timer()\n",
    "\n",
    "theSamp = wfdb.rdsamp(\"/home/dr-dunstan/Downloads/training2017/\"+ \"A00001\")\n",
    "theData = len(theSamp[0])\n",
    "print(theSamp[0])\n",
    "makePersistDiagram(2,30,\"A00001\",'/home/dr-dunstan/Downloads/training2017/',2)\n",
    "elapsed = timeit.default_timer() - start_time"
   ]
  },
  {
   "cell_type": "code",
   "execution_count": null,
   "metadata": {},
   "outputs": [
    {
     "name": "stdout",
     "output_type": "stream",
     "text": [
      "(695, 55)\n",
      "[[-0.127 -0.245 -0.268 ...,  0.049  0.021 -0.007]\n",
      " [-0.245 -0.268 -0.263 ...,  0.021 -0.007 -0.004]\n",
      " [-0.268 -0.263 -0.249 ..., -0.007 -0.004  0.007]\n",
      " ..., \n",
      " [ 0.016  0.051  0.07  ..., -0.092 -0.078 -0.069]\n",
      " [ 0.051  0.07   0.082 ..., -0.078 -0.069 -0.061]\n",
      " [ 0.07   0.082  0.086 ..., -0.069 -0.061 -0.055]]\n",
      "starting\n"
     ]
    }
   ],
   "source": [
    "import timeit\n",
    "\n",
    "theList = [55,60,65,70,75]\n",
    "theFinalList = []\n",
    "thePersistList = []\n",
    "for element in  theList: \n",
    "    start_time = timeit.default_timer()\n",
    "\n",
    "    theSamp = wfdb.rdsamp(\"/home/dr-dunstan/Downloads/training2017/\"+ \"A00001\")\n",
    "    #theData = len(theSamp[0])\n",
    "    thePersist = makePersistDiagram(element,3000,\"A00001\",'/home/dr-dunstan/Downloads/training2017/',250)\n",
    "    elapsed = timeit.default_timer() - start_time\n",
    "    theFinalList.append(elapsed)\n",
    "    thePersistList.append(thePersist)"
   ]
  },
  {
   "cell_type": "code",
   "execution_count": 7,
   "metadata": {},
   "outputs": [
    {
     "data": {
      "text/plain": [
       "[0.6470299840439111,\n",
       " 0.6543979998677969,\n",
       " 1.387157133081928,\n",
       " 4.025382577907294,\n",
       " 5.0782912380527705,\n",
       " 11.042995186056942,\n",
       " 14.668640203075483,\n",
       " 23.651742126094177,\n",
       " 43.12001567007974,\n",
       " 41.756895924918354,\n",
       " 85.70284675620496,\n",
       " 85.45622263103724,\n",
       " 241.41786997392774,\n",
       " 222.33906099689193,\n",
       " 217.41468082903884]"
      ]
     },
     "execution_count": 7,
     "metadata": {},
     "output_type": "execute_result"
    },
    {
     "data": {
      "image/png": "[encoded data removed]",
      "text/plain": [
       "<matplotlib.figure.Figure at 0x7fbd601444e0>"
      ]
     },
     "metadata": {},
     "output_type": "display_data"
    }
   ],
   "source": [
    "plt.plot(theList,theFinalList)\n",
    "theFinalList"
   ]
  },
  {
   "cell_type": "code",
   "execution_count": null,
   "metadata": {
    "collapsed": true
   },
   "outputs": [],
   "source": []
  }
 ],
 "metadata": {
  "kernelspec": {
   "display_name": "Python 3",
   "language": "python",
   "name": "python3"
  },
  "language_info": {
   "codemirror_mode": {
    "name": "ipython",
    "version": 3
   },
   "file_extension": ".py",
   "mimetype": "text/x-python",
   "name": "python",
   "nbconvert_exporter": "python",
   "pygments_lexer": "ipython3",
   "version": "3.6.2"
  }
 },
 "nbformat": 4,
 "nbformat_minor": 2
}
