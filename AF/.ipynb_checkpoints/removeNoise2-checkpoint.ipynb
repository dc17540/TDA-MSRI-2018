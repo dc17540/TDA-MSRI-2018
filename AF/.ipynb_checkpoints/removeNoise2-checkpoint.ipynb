{
 "cells": [
  {
   "cell_type": "code",
   "execution_count": null,
   "metadata": {
    "collapsed": true
   },
   "outputs": [],
   "source": [
    "import matplotlib.pyplot as plt\n",
    "%matplotlib inline\n",
    "import numpy as np\n",
    "import os\n",
    "import shutil\n",
    "import cython\n",
    "from ripser import ripser, plot_dgms\n",
    "from scipy.fftpack import fft,ifft\n",
    "import wfdb\n",
    "from scipy import signal\n",
    "from gwpy.spectrogram import Spectrogram"
   ]
  },
  {
   "cell_type": "code",
   "execution_count": null,
   "metadata": {
    "collapsed": true
   },
   "outputs": [],
   "source": [
    "\n",
    "def theStart(aString):\n",
    "    print(aString)\n",
    "    theSamp = wfdb.rdsamp('/home/dr-dunstan/Downloads/training2017/' + aString)\n",
    "    #fields = wfdb.rdrecord('/home/dr-dunstan/Downloads/training2017/A00061')\n",
    "    #wfdb.plot_wfdb(record=fields, title='Record A00061 from Physionet Challenge 2017')\n",
    "\n",
    "    theX = []\n",
    "    for i in range(0,len(theSamp[0])):\n",
    "    #print(theSamp[0][i][0])\n",
    "        theX.append(theSamp[0][i][0])\n",
    "\n",
    "\n",
    "#print(theX)\n",
    "    values, ybins, xbins, im = plt.specgram(theX,Fs=300)\n",
    "    print(xbins)\n",
    "    #plt.xlabel('Time')\n",
    "\n",
    "    #plt.ylabel('Frequency')\n",
    "\n",
    " \n",
    "\n",
    "    plt.show()\n",
    "    theGoodList = stepTwo(values,ybins,xbins,im)\n",
    "    print(\"good List\")\n",
    "    print(theGoodList)\n",
    "    longSegment = getLongestSegment(theGoodList)\n",
    "    print(\"longest\")\n",
    "    print(longSegment)\n",
    "    signalVals = getSignalVals(longSegment,theX,xbins)\n",
    "    #print(\"Samp\")\n",
    "    #print(signalVals)\n",
    "    plotSave(signalVals,aString)\n",
    "    "
   ]
  },
  {
   "cell_type": "code",
   "execution_count": null,
   "metadata": {
    "collapsed": true
   },
   "outputs": [],
   "source": []
  },
  {
   "cell_type": "code",
   "execution_count": null,
   "metadata": {
    "collapsed": true
   },
   "outputs": [],
   "source": []
  },
  {
   "cell_type": "code",
   "execution_count": null,
   "metadata": {
    "collapsed": true
   },
   "outputs": [],
   "source": []
  },
  {
   "cell_type": "code",
   "execution_count": null,
   "metadata": {
    "collapsed": true
   },
   "outputs": [],
   "source": [
    "def stepTwo(values,ybins,xbins,im):\n",
    "    #print(theVal)\n",
    "    theVal = values.transpose() \n",
    "    minFreq = 0\n",
    "    maxFreq = 50\n",
    "    minFreqIndex = \"\"\n",
    "    maxFreqIndex = \"\"\n",
    "    theThreshold = .0000001\n",
    "\n",
    "    countMode = 0\n",
    "\n",
    "    if (minFreq == 0):\n",
    "        minFreqIndex = 0\n",
    "        countMode = 1\n",
    "\n",
    "    for i in range(len(ybins)-1):\n",
    "        if(ybins[i] < minFreq and ybins[i+1] > minFreq):\n",
    "            minFreqIndex = i+1\n",
    "        if(ybins[i] < maxFreq and ybins[i+1] > maxFreq):\n",
    "            maxFreqIndex = i\n",
    "\n",
    "#print(minFreqIndex)\n",
    "#print(maxFreqIndex)\n",
    "\n",
    "    theList = []\n",
    "    theList2 = []\n",
    "    theGoodList = []\n",
    "    countMode = 0\n",
    "    badMode = 0\n",
    "\n",
    "    for i in range(len(theVal)):\n",
    "        for j in range(len(theVal[i])):\n",
    "        #if freq is too low \n",
    "            if(j < minFreqIndex):\n",
    "                if(theVal[i][j] > theThreshold):\n",
    "                #print(\"Bad freq exsists (Low) at \" + str(i))\n",
    "                    if(countMode == 0):\n",
    "                        theList.append(i)\n",
    "                        countMode += 1\n",
    "            elif(j > maxFreqIndex):\n",
    "                if(theVal[i][j] > theThreshold):\n",
    "                #print(\"Bad freq exsists (High) at \" + str(i)\n",
    "                    badMode += 1\n",
    "                    if(countMode == 1):\n",
    "                        theList2.append(i)\n",
    "                        countMode += 1\n",
    "                    \n",
    "        if(badMode == 0):\n",
    "            theGoodList.append(i)\n",
    "        else:\n",
    "            badMode = 0\n",
    "    \n",
    "        countMode = 0\n",
    "        if(minFreq == 0):\n",
    "            countMode = 1\n",
    "    #print(len(theList))\n",
    "    #print(len(theList2))\n",
    "    return (theGoodList)"
   ]
  },
  {
   "cell_type": "code",
   "execution_count": null,
   "metadata": {
    "collapsed": true
   },
   "outputs": [],
   "source": [
    "maxLen = 0\n",
    "first = 0 \n",
    "last = 0\n",
    "temp = 0\n",
    "\n",
    "def getLongestSegment(aList):\n",
    "    maxLen = 0\n",
    "    first = 0\n",
    "    if(len(aList) != 0):\n",
    "        last = aList[0]\n",
    "        first = aList[0]\n",
    "    aTemp = []\n",
    "    aTemp2 = []\n",
    "    aTemp3 = []\n",
    "    maxList = []\n",
    "    finalList = []\n",
    "    maxIndex = 0\n",
    "    for i in range(0,len(aList) -1):\n",
    "        aTemp.append(aList[i+1] - aList[i])\n",
    "    \n",
    "    print(aTemp)\n",
    "    \n",
    "    for i in range(len(aTemp)):\n",
    "        if(aTemp[i] != 1):\n",
    "            aTemp[i] = \"NO\"\n",
    "            \n",
    "            \n",
    "    \n",
    "    for i in range(len(aTemp)):\n",
    "        if(aTemp[i] != 1):\n",
    "            aTemp3.append(aTemp2)\n",
    "            aTemp2 = []\n",
    "        else:\n",
    "            aTemp2.append(i+1)\n",
    "            #finTemp.append\n",
    "    \n",
    "    print(\"the temp 3\")\n",
    "    print(aTemp3)\n",
    "    \n",
    "    for element in aTemp3:\n",
    "        if(maxIndex < len(element)):\n",
    "            maxList = element\n",
    "            maxIndex = len(element)\n",
    "    \n",
    "    for element in maxList:\n",
    "        finalList.append(aList[element])\n",
    "    \n",
    "    #print(maxList)\n",
    "    if(len(maxList) != 0):\n",
    "        finalList.insert(0, aList[maxList[0]] - 1)\n",
    "        \n",
    "    \n",
    "    print(finalList)    \n",
    "    return(finalList)\n",
    "\n",
    "\n",
    "def getSignalVals(aList,theSamp,timeList):\n",
    "    theMin = 0\n",
    "    theMax = 0\n",
    "    print(\"indexList\")\n",
    "    print(aList)\n",
    "    if(len(aList) != 0):\n",
    "        theMin = int(timeList[aList[0]]) * 300\n",
    "        theMax = int(timeList[aList[len(aList)-1]]) *300\n",
    "        if(theMin == theMax):\n",
    "            theMax = 300 + theMax\n",
    "    print(\"theMin\")\n",
    "    print(theMin)\n",
    "    print(\"theMax\")\n",
    "    print(theMax)\n",
    "    #print(theSamp[theMin:theMax+1])\n",
    "    return(theSamp[theMin:theMax+1])\n",
    "\n",
    "#theFinal = getLongestSegment(theGoodList)\n",
    "#theCleaned = getSignalVals(theFinal)\n",
    "#print(theCleaned)\n",
    "\n"
   ]
  },
  {
   "cell_type": "code",
   "execution_count": null,
   "metadata": {
    "collapsed": true
   },
   "outputs": [],
   "source": [
    "#nm#wfdb.wrsamp(\"A00061_clean\",fs=300,sig_name=[\"ECG\"],p_signal=theCleaned,units=[\"mV\"],fmt=['16', '16'])"
   ]
  },
  {
   "cell_type": "code",
   "execution_count": null,
   "metadata": {
    "collapsed": true
   },
   "outputs": [],
   "source": [
    "def plotSave(aList,aString):\n",
    "    #print(aList)\n",
    "    x = np.arange(len(aList))\n",
    "    theCleanedFin = []\n",
    "    for i in range(0,len(aList)):\n",
    "        if(len(aList) > 1):\n",
    "            theCleanedFin.append(aList[i])\n",
    "        else:\n",
    "            theCleanedFin.append(aList[i])\n",
    "        \n",
    "    y = theCleanedFin\n",
    "\n",
    "    plt.plot(x,y)\n",
    "    plt.show()\n",
    "    z = open(aString +\".txt\",\"w\")\n",
    "    for i in range(len(aList)):\n",
    "        z.write(str(aList[i])+\"\\n\")\n",
    "    z.close()"
   ]
  },
  {
   "cell_type": "code",
   "execution_count": null,
   "metadata": {},
   "outputs": [],
   "source": [
    "theCSV = open(\"200_set_of_Norm_AF_Rand.csv\")\n",
    "lineSkip = 0\n",
    "for line in theCSV:\n",
    "            #remove whitespace\n",
    "    line = line.strip()\n",
    "            #split up based off commas\n",
    "    a,b,c,d = line.split(\",\")\n",
    "            #if not at first line\n",
    "    if(lineSkip != 0):\n",
    "                #create plot diagram with ID at that line\n",
    "        theStart(c)\n",
    "    lineSkip += 1\n",
    "#theStart(\"A00033\")"
   ]
  },
  {
   "cell_type": "code",
   "execution_count": null,
   "metadata": {
    "collapsed": true
   },
   "outputs": [],
   "source": []
  }
 ],
 "metadata": {
  "kernelspec": {
   "display_name": "Python 3",
   "language": "python",
   "name": "python3"
  },
  "language_info": {
   "codemirror_mode": {
    "name": "ipython",
    "version": 3
   },
   "file_extension": ".py",
   "mimetype": "text/x-python",
   "name": "python",
   "nbconvert_exporter": "python",
   "pygments_lexer": "ipython3",
   "version": "3.6.2"
  }
 },
 "nbformat": 4,
 "nbformat_minor": 2
}
